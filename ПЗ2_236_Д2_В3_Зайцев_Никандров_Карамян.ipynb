{
  "nbformat": 4,
  "nbformat_minor": 0,
  "metadata": {
    "colab": {
      "provenance": []
    },
    "kernelspec": {
      "name": "python3",
      "display_name": "Python 3"
    },
    "language_info": {
      "name": "python"
    }
  },
  "cells": [
    {
      "cell_type": "markdown",
      "source": [
        "##Вариант 3\n"
      ],
      "metadata": {
        "id": "4iUyowCL4eNA"
      }
    },
    {
      "cell_type": "markdown",
      "source": [
        "1. Решить задачу линейного программирования на минимум и на\n",
        "максимум при помощи библиотек pulp, scipy.Optimize, cvxopt\n",
        "(Пример см. Приожение 1)\n",
        "2. Построить решение в графическом виде, указав оптимальные\n",
        "точки\n",
        "3. Сверить ответ с приведенным ответом (как правило, приведен\n",
        "один вариант ответа), сверить ответы между собой — вывести\n",
        "таблицу в виде: метод — ответ — время"
      ],
      "metadata": {
        "id": "9fBQJ6Ug4oOQ"
      }
    },
    {
      "cell_type": "markdown",
      "source": [
        "Среди чисел x и y, удовлетворяющих условиям\n",
        "\n",
        "**Система:**\n",
        "$$y≥0$$\n",
        "$$x+ y ≤1$$\n",
        "$$x−4 y≥−2$$\n",
        "\n",
        "найти такие, при которых разность этих чисел y-x принимает наибольшее\n",
        "значение.\n",
        "\n",
        "Ответ: **x =-2; y=0**\n",
        "\n"
      ],
      "metadata": {
        "id": "b4Zf_e8i4sI4"
      }
    },
    {
      "cell_type": "markdown",
      "source": [
        "##Установим все нужные библиотеки для работы(*pulp,scipy.Optimize,cvxopt*)"
      ],
      "metadata": {
        "id": "pBDRuYpW5fup"
      }
    },
    {
      "cell_type": "code",
      "source": [
        "!pip install pulp scipy cvxopt"
      ],
      "metadata": {
        "colab": {
          "base_uri": "https://localhost:8080/"
        },
        "id": "zDRSwwOK03t3",
        "outputId": "85a215bf-55fa-4e60-9530-8294ec487246"
      },
      "execution_count": 4,
      "outputs": [
        {
          "output_type": "stream",
          "name": "stdout",
          "text": [
            "Requirement already satisfied: pulp in /usr/local/lib/python3.12/dist-packages (3.3.0)\n",
            "Requirement already satisfied: scipy in /usr/local/lib/python3.12/dist-packages (1.16.2)\n",
            "Requirement already satisfied: cvxopt in /usr/local/lib/python3.12/dist-packages (1.3.2)\n",
            "Requirement already satisfied: numpy<2.6,>=1.25.2 in /usr/local/lib/python3.12/dist-packages (from scipy) (2.0.2)\n"
          ]
        }
      ]
    },
    {
      "cell_type": "markdown",
      "source": [
        "##Библиотека pulp"
      ],
      "metadata": {
        "id": "Rqg5VUtD57ww"
      }
    },
    {
      "cell_type": "code",
      "execution_count": 34,
      "metadata": {
        "colab": {
          "base_uri": "https://localhost:8080/"
        },
        "id": "f8fkOuKDzVmS",
        "outputId": "7b9e7e6f-efaf-4cfc-db78-ba5999a28ff5"
      },
      "outputs": [
        {
          "output_type": "stream",
          "name": "stdout",
          "text": [
            "PuLP:\n",
            "x = -2.0\n",
            "y = 0.0\n",
            "Макс. значение y - x = 2.0\n",
            "Время выполнения = 0.00806 сек.\n"
          ]
        }
      ],
      "source": [
        "import pulp\n",
        "import time\n",
        "\n",
        "start = time.time()\n",
        "\n",
        "model = pulp.LpProblem(\"LP_max\", pulp.LpMaximize)\n",
        "\n",
        "x = pulp.LpVariable('x')\n",
        "y = pulp.LpVariable('y', lowBound=0)\n",
        "\n",
        "model += y - x\n",
        "\n",
        "model += x + y <= 1\n",
        "model += x - 4*y >= -2\n",
        "\n",
        "model.solve(pulp.PULP_CBC_CMD(msg=0))\n",
        "\n",
        "end = time.time()\n",
        "\n",
        "print(\"PuLP:\")\n",
        "print(\"x =\", pulp.value(x))\n",
        "print(\"y =\", pulp.value(y))\n",
        "print(\"Макс. значение y - x =\", pulp.value(y - x))\n",
        "print(\"Время выполнения =\", round(end - start, 6), \"сек.\")\n",
        "\n"
      ]
    },
    {
      "cell_type": "markdown",
      "source": [
        "##Библиотека scipy"
      ],
      "metadata": {
        "id": "ivM_gErB6Va0"
      }
    },
    {
      "cell_type": "code",
      "source": [
        "from scipy.optimize import linprog\n",
        "import time\n",
        "\n",
        "start = time.time()\n",
        "\n",
        "c = [1, -1]\n",
        "\n",
        "A = [\n",
        "    [1, 1],\n",
        "    [-1, 4]\n",
        "]\n",
        "b = [1, 2]\n",
        "\n",
        "bounds = [(None, None), (0, None)]\n",
        "\n",
        "res = linprog(c, A_ub=A, b_ub=b, bounds=bounds, method=\"highs\")\n",
        "\n",
        "end = time.time()\n",
        "\n",
        "print(\"SciPy:\")\n",
        "print(\"x =\", res.x[0])\n",
        "print(\"y =\", res.x[1])\n",
        "print(\"Макс. значение y - x =\", -res.fun)\n",
        "print(\"Время выполнения =\", round(end - start, 6), \"сек.\")\n"
      ],
      "metadata": {
        "colab": {
          "base_uri": "https://localhost:8080/"
        },
        "id": "7yVP87AS1Mma",
        "outputId": "c8dc91ae-06ab-4bc3-ca78-de76a573eb9f"
      },
      "execution_count": 13,
      "outputs": [
        {
          "output_type": "stream",
          "name": "stdout",
          "text": [
            "SciPy:\n",
            "x = -2.0\n",
            "y = 0.0\n",
            "Макс. значение y - x = 2.0\n",
            "Время выполнения = 0.00432 сек.\n"
          ]
        }
      ]
    },
    {
      "cell_type": "markdown",
      "source": [
        "##Библиотека cvxopt"
      ],
      "metadata": {
        "id": "GZKsAFIJ6fR6"
      }
    },
    {
      "cell_type": "code",
      "source": [
        "from cvxopt import matrix, solvers\n",
        "import time\n",
        "\n",
        "start = time.time()\n",
        "\n",
        "c = matrix([1.0, -1.0])\n",
        "\n",
        "G = matrix([\n",
        "    [1.0, -1.0, 0.0],\n",
        "    [1.0,  4.0, -1.0]\n",
        "])\n",
        "h = matrix([1.0, 2.0, 0.0])\n",
        "\n",
        "sol = solvers.lp(c, G, h)\n",
        "\n",
        "end = time.time()\n",
        "\n",
        "x_opt, y_opt = sol['x'][0], sol['x'][1]\n",
        "\n",
        "print(\"CVXOPT:\")\n",
        "print(\"x =\", x_opt)\n",
        "print(\"y =\", y_opt)\n",
        "print(\"Макс. значение y - x =\", y_opt - x_opt)\n",
        "print(\"Время выполнения =\", round(end - start, 6), \"сек.\")\n"
      ],
      "metadata": {
        "colab": {
          "base_uri": "https://localhost:8080/"
        },
        "id": "QegCQz611OnX",
        "outputId": "99149221-3347-4079-f853-c7650fb0c9cd"
      },
      "execution_count": 28,
      "outputs": [
        {
          "output_type": "stream",
          "name": "stdout",
          "text": [
            "     pcost       dcost       gap    pres   dres   k/t\n",
            " 0: -2.2222e-01 -5.0000e+00  1e+00  0e+00  5e+00  1e+00\n",
            " 1: -3.0999e-01 -2.0321e+00  5e-01  6e-17  2e+00  4e-01\n",
            " 2: -1.6781e+00 -4.4279e+00  3e+00  8e-16  3e+00  1e+00\n",
            " 3: -1.9256e+00 -2.0658e+00  1e-01  6e-16  2e-01  5e-02\n",
            " 4: -1.9993e+00 -2.0007e+00  1e-03  4e-16  2e-03  6e-04\n",
            " 5: -2.0000e+00 -2.0000e+00  1e-05  1e-16  2e-05  6e-06\n",
            " 6: -2.0000e+00 -2.0000e+00  1e-07  7e-16  2e-07  6e-08\n",
            " 7: -2.0000e+00 -2.0000e+00  1e-09  5e-16  2e-09  6e-10\n",
            "Optimal solution found.\n",
            "CVXOPT:\n",
            "x = -1.999999999252164\n",
            "y = 1.987946948144185e-12\n",
            "Макс. значение y - x = 1.999999999254152\n",
            "Время выполнения = 0.00511 сек.\n"
          ]
        }
      ]
    },
    {
      "cell_type": "markdown",
      "source": [
        "##Графическое решение"
      ],
      "metadata": {
        "id": "65inxXMV6qPI"
      }
    },
    {
      "cell_type": "code",
      "source": [
        "import numpy as np\n",
        "import matplotlib.pyplot as plt\n",
        "\n",
        "# диапазон значений x\n",
        "x_vals = np.linspace(-3, 3, 400)\n",
        "\n",
        "# линии ограничений\n",
        "y1 = 1 - x_vals        # x + y = 1\n",
        "y2 = (x_vals + 2)/4    # x - 4y = -2\n",
        "y0 = np.zeros_like(x_vals)  # y = 0\n",
        "\n",
        "# строим допустимую область\n",
        "plt.fill_between(x_vals, 0, np.minimum(y1, y2), where=(np.minimum(y1, y2) >= 0), alpha=0.3, label=\"Допустимая область\")\n",
        "\n",
        "# линии ограничений\n",
        "plt.plot(x_vals, y1, label=\"x + y = 1\")\n",
        "plt.plot(x_vals, y2, label=\"x - 4y = -2\")\n",
        "plt.axhline(0, color='black', linewidth=1)\n",
        "\n",
        "# оптимальная точка\n",
        "plt.scatter(-2, 0, color='red', zorder=5, label=\"Оптимум (-2, 0)\")\n",
        "\n",
        "# оформление\n",
        "plt.legend()\n",
        "plt.xlabel(\"x\")\n",
        "plt.ylabel(\"y\")\n",
        "plt.title(\"Область допустимых решений задачи ЛП\")\n",
        "plt.grid(True)\n",
        "plt.show()\n"
      ],
      "metadata": {
        "colab": {
          "base_uri": "https://localhost:8080/",
          "height": 472
        },
        "id": "09v4iejN2BGt",
        "outputId": "a0c2639e-768f-4dbc-9275-06c1e927fe29"
      },
      "execution_count": 7,
      "outputs": [
        {
          "output_type": "display_data",
          "data": {
            "text/plain": [
              "<Figure size 640x480 with 1 Axes>"
            ],
            "image/png": "[encoded data removed]"
          },
          "metadata": {}
        }
      ]
    },
    {
      "cell_type": "markdown",
      "source": [
        "## Вывод:\n",
        "Все три метода дали одинаковое решение:\n",
        "$$x=-2,y=0,max(y-x)=2$$\n",
        "\n",
        "*  SciPy показал наилучшее время работы\n",
        "\n",
        "*  CVXOPT на 2 месте\n",
        "\n",
        "*  PuLP самый медленный\n",
        "\n",
        "Результат совпадает с аналитическим ответом и подтверждается графиком"
      ],
      "metadata": {
        "id": "zH7ZVFTB4O3i"
      }
    }
  ]
}